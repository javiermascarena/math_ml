{
 "cells": [
  {
   "cell_type": "code",
   "execution_count": 1,
   "metadata": {},
   "outputs": [],
   "source": [
    "import torch\n",
    "from torchvision import datasets, transforms\n",
    "from torch.utils.data import random_split\n",
    "\n",
    "import matplotlib.pyplot as plt\n",
    "import numpy as np\n",
    "\n",
    "device = torch.device(\"cuda\" if torch.cuda.is_available() else \"cpu\")"
   ]
  },
  {
   "cell_type": "markdown",
   "metadata": {},
   "source": [
    "**1. DATA PREPROCESSING**\n",
    "\n",
    "We will first load all the images from the [dataset](https://www.kaggle.com/datasets/xainano/handwrittenmathsymbols)."
   ]
  },
  {
   "cell_type": "code",
   "execution_count": 2,
   "metadata": {},
   "outputs": [],
   "source": [
    "# Load the dataset and make a random rotation\n",
    "transform = transforms.Compose([\n",
    "    transforms.Grayscale(),\n",
    "    transforms.RandomRotation(15, fill=255),  # Fill the border with white pixels\n",
    "    transforms.ToTensor()])\n",
    "dataset = datasets.ImageFolder(\"data/data/extracted_images\", transform=transform)"
   ]
  },
  {
   "cell_type": "markdown",
   "metadata": {},
   "source": [
    "Since there are many images we will only use at first a subset of them, with all classes present in both training and testing. For this we use a method found at aux_functions."
   ]
  },
  {
   "cell_type": "code",
   "execution_count": 4,
   "metadata": {},
   "outputs": [
    {
     "name": "stdout",
     "output_type": "stream",
     "text": [
      "Completed label: 0/82\n",
      "Completed label: 1/82\n",
      "Completed label: 2/82\n",
      "Completed label: 3/82\n",
      "Completed label: 4/82\n",
      "Completed label: 5/82\n",
      "Completed label: 6/82\n",
      "Completed label: 7/82\n",
      "Completed label: 8/82\n",
      "Completed label: 9/82\n",
      "Completed label: 10/82\n",
      "Completed label: 11/82\n",
      "Completed label: 12/82\n",
      "Completed label: 13/82\n",
      "Completed label: 14/82\n",
      "Completed label: 15/82\n",
      "Completed label: 16/82\n",
      "Completed label: 17/82\n",
      "Completed label: 18/82\n",
      "Completed label: 19/82\n",
      "Completed label: 20/82\n",
      "Completed label: 21/82\n",
      "Completed label: 22/82\n",
      "Completed label: 23/82\n",
      "Completed label: 24/82\n",
      "Completed label: 25/82\n",
      "Completed label: 26/82\n",
      "Completed label: 27/82\n",
      "Completed label: 28/82\n",
      "Completed label: 29/82\n",
      "Completed label: 30/82\n",
      "Completed label: 31/82\n",
      "Completed label: 32/82\n",
      "Completed label: 33/82\n",
      "Completed label: 34/82\n",
      "Completed label: 35/82\n",
      "Completed label: 36/82\n",
      "Completed label: 37/82\n",
      "Completed label: 38/82\n",
      "Completed label: 39/82\n",
      "Completed label: 40/82\n",
      "Completed label: 41/82\n",
      "Completed label: 42/82\n",
      "Completed label: 43/82\n",
      "Completed label: 44/82\n",
      "Completed label: 45/82\n",
      "Completed label: 46/82\n",
      "Completed label: 47/82\n",
      "Completed label: 48/82\n",
      "Completed label: 49/82\n",
      "Completed label: 50/82\n",
      "Completed label: 51/82\n",
      "Completed label: 52/82\n",
      "Completed label: 53/82\n",
      "Completed label: 54/82\n",
      "Completed label: 55/82\n",
      "Completed label: 56/82\n",
      "Completed label: 57/82\n",
      "Completed label: 58/82\n",
      "Completed label: 59/82\n",
      "Completed label: 60/82\n",
      "Completed label: 61/82\n",
      "Completed label: 62/82\n",
      "Completed label: 63/82\n",
      "Completed label: 64/82\n",
      "Completed label: 65/82\n",
      "Completed label: 66/82\n",
      "Completed label: 67/82\n",
      "Completed label: 68/82\n",
      "Completed label: 69/82\n",
      "Completed label: 70/82\n",
      "Completed label: 71/82\n",
      "Completed label: 72/82\n",
      "Completed label: 73/82\n",
      "Completed label: 74/82\n",
      "Completed label: 75/82\n",
      "Completed label: 76/82\n",
      "Completed label: 77/82\n",
      "Completed label: 78/82\n",
      "Completed label: 79/82\n",
      "Completed label: 80/82\n",
      "Completed label: 81/82\n"
     ]
    }
   ],
   "source": [
    "from sklearn.model_selection import train_test_split\n",
    "from aux_functions import get_subset_with_all_labels\n",
    "from torch.utils.data import Subset\n",
    "\n",
    "# Get a subset with all labels present\n",
    "subset = get_subset_with_all_labels(dataset, 2000, 10, True)\n",
    "\n",
    "# Get labels from the subset\n",
    "subset_labels = [subset[i][1] for i in range(len(subset))]\n",
    "\n",
    "# Perform stratified splitting\n",
    "indices = np.arange(len(subset))\n",
    "train_indices, test_indices = train_test_split(\n",
    "    indices, \n",
    "    test_size=0.2, \n",
    "    stratify=subset_labels,\n",
    "    random_state=42\n",
    ")\n",
    "\n",
    "train_subset = Subset(subset, train_indices)\n",
    "test_subset = Subset(subset, test_indices)\n",
    "\n",
    "# Dataloader for training and testing\n",
    "train_loader = torch.utils.data.DataLoader(train_subset, batch_size=32, shuffle=True)\n",
    "test_loader = torch.utils.data.DataLoader(test_subset, batch_size=32, shuffle=True)"
   ]
  },
  {
   "cell_type": "markdown",
   "metadata": {},
   "source": [
    "Now we explore the data checking that it has been correctly preprocessed."
   ]
  },
  {
   "cell_type": "code",
   "execution_count": 10,
   "metadata": {},
   "outputs": [
    {
     "name": "stdout",
     "output_type": "stream",
     "text": [
      "Length of training set: 1600\n",
      "Length of testing set: 400\n"
     ]
    },
    {
     "data": {
      "image/png": "[encoded data removed]",
      "text/plain": [
       "<Figure size 1000x400 with 4 Axes>"
      ]
     },
     "metadata": {},
     "output_type": "display_data"
    },
    {
     "data": {
      "image/png": "[encoded data removed]",
      "text/plain": [
       "<Figure size 1000x400 with 4 Axes>"
      ]
     },
     "metadata": {},
     "output_type": "display_data"
    }
   ],
   "source": [
    "print(f\"Length of training set: {len(train_subset)}\")\n",
    "print(f\"Length of testing set: {len(test_subset)}\")\n",
    "\n",
    "# Testing data loader\n",
    "train_images, train_labels = next(iter(train_loader))\n",
    "test_images, test_labels = next(iter(test_loader))\n",
    "\n",
    "# Plotting training images\n",
    "fig1, axes1 = plt.subplots(figsize=(10,4), ncols=4)\n",
    "for i in range(4):\n",
    "    ax = axes1[i]\n",
    "    ax.imshow(train_images[i].permute(1, 2, 0))\n",
    "    ax.axis(\"off\")\n",
    "fig1.suptitle(\"Training Images\")\n",
    "plt.show()\n",
    "\n",
    "# Plotting testing images\n",
    "fig2, axes2 = plt.subplots(figsize=(10,4), ncols=4)\n",
    "for i in range(4):\n",
    "    ax = axes2[i]\n",
    "    ax.imshow(test_images[i].permute(1, 2, 0))\n",
    "    ax.axis(\"off\")\n",
    "fig2.suptitle(\"Testing Images\")\n",
    "plt.show()\n"
   ]
  },
  {
   "cell_type": "markdown",
   "metadata": {},
   "source": [
    "**2. SIMPLE MODEL CREATION AND TRAINING**\n",
    "\n",
    "We create a simple CNN at first with 2 convolutional layers and 3 fully connected layers. It will serve as a benchmark to how complex this classification is."
   ]
  },
  {
   "cell_type": "code",
   "execution_count": 11,
   "metadata": {},
   "outputs": [],
   "source": [
    "import torch.nn as nn\n",
    "import torch.nn.functional as F\n",
    "\n",
    "class SimpleCNN(nn.Module):\n",
    "    def __init__(self):\n",
    "        super().__init__()\n",
    "        self.conv1 = nn.Conv2d(1, 16, 3)\n",
    "        self.pool = nn.MaxPool2d(2, 2)\n",
    "        self.conv2 = nn.Conv2d(16, 32, 3)\n",
    "        self.fc1 = nn.Linear(32 * 9 * 9, 512)\n",
    "        self.fc2 = nn.Linear(512, 256)\n",
    "        self.fc3 = nn.Linear(256, 100)\n",
    "\n",
    "    def forward(self, x):\n",
    "        x = self.pool(F.relu(self.conv1(x)))\n",
    "        x = self.pool(F.relu(self.conv2(x)))\n",
    "        x = torch.flatten(x, 1)\n",
    "        x = F.relu(self.fc1(x))\n",
    "        x = F.relu(self.fc2(x))\n",
    "        x = self.fc3(x)\n",
    "\n",
    "        return x\n",
    "\n",
    "first_cnn = SimpleCNN().to(device)"
   ]
  },
  {
   "cell_type": "markdown",
   "metadata": {},
   "source": [
    "Now we will train the model in the subset we created previously"
   ]
  },
  {
   "cell_type": "code",
   "execution_count": 12,
   "metadata": {},
   "outputs": [
    {
     "name": "stderr",
     "output_type": "stream",
     "text": [
      "C:\\Users\\javie\\AppData\\Local\\Temp\\ipykernel_9124\\2458281339.py:5: FutureWarning: `torch.cuda.amp.GradScaler(args...)` is deprecated. Please use `torch.amp.GradScaler('cuda', args...)` instead.\n",
      "  scaler = torch.cuda.amp.GradScaler()\n"
     ]
    }
   ],
   "source": [
    "import torch.optim as optim\n",
    "\n",
    "criterion = nn.CrossEntropyLoss()\n",
    "optimizer = optim.Adam(first_cnn.parameters(), lr=0.001)\n",
    "scaler = torch.cuda.amp.GradScaler()"
   ]
  },
  {
   "cell_type": "code",
   "execution_count": null,
   "metadata": {},
   "outputs": [
    {
     "name": "stderr",
     "output_type": "stream",
     "text": [
      "C:\\Users\\javie\\AppData\\Local\\Temp\\ipykernel_9124\\3312443076.py:11: FutureWarning: `torch.cuda.amp.autocast(args...)` is deprecated. Please use `torch.amp.autocast('cuda', args...)` instead.\n",
      "  with torch.cuda.amp.autocast():\n"
     ]
    },
    {
     "name": "stdout",
     "output_type": "stream",
     "text": [
      "Loss after epoch 0: 55.4044189453125\n",
      "Loss after epoch 1: 53.52923583984375\n",
      "Loss after epoch 2: 52.87284851074219\n",
      "Loss after epoch 3: 52.124481201171875\n",
      "Loss after epoch 4: 51.124717712402344\n",
      "Loss after epoch 5: 50.02254104614258\n",
      "Loss after epoch 6: 47.55818843841553\n",
      "Loss after epoch 7: 44.66558837890625\n",
      "Loss after epoch 8: 42.13068389892578\n",
      "Loss after epoch 9: 38.93971252441406\n",
      "Finished training\n"
     ]
    }
   ],
   "source": [
    "accumulation_steps = 4\n",
    "\n",
    "for epoch in range(10):\n",
    "    first_cnn.train()\n",
    "    running_loss = 0.0\n",
    "\n",
    "    for i, (inputs, labels) in enumerate(train_loader, 0):\n",
    "        inputs, labels = inputs.to(device), labels.to(device)\n",
    "        optimizer.zero_grad()\n",
    "\n",
    "        with torch.cuda.amp.autocast(): \n",
    "            outputs = first_cnn(inputs)\n",
    "            loss = criterion(outputs, labels) / accumulation_steps\n",
    "\n",
    "        scaler.scale(loss).backward()\n",
    "\n",
    "        if (i + 1) % accumulation_steps == 0:  # Update after accumulation\n",
    "            scaler.step(optimizer)\n",
    "            scaler.update()\n",
    "            optimizer.zero_grad()\n",
    "\n",
    "        running_loss += loss.item()\n",
    "        \n",
    "    print(f\"Loss after epoch {epoch+1}: {running_loss}\")\n",
    "\n",
    "print(\"Finished training\")"
   ]
  }
 ],
 "metadata": {
  "kernelspec": {
   "display_name": "Python 3",
   "language": "python",
   "name": "python3"
  },
  "language_info": {
   "codemirror_mode": {
    "name": "ipython",
    "version": 3
   },
   "file_extension": ".py",
   "mimetype": "text/x-python",
   "name": "python",
   "nbconvert_exporter": "python",
   "pygments_lexer": "ipython3",
   "version": "3.11.5"
  }
 },
 "nbformat": 4,
 "nbformat_minor": 2
}
