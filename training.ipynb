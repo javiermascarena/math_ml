{
 "cells": [
  {
   "cell_type": "code",
   "execution_count": 12,
   "metadata": {},
   "outputs": [],
   "source": [
    "import torch\n",
    "import torchvision\n",
    "from torchvision import datasets, transforms\n",
    "from torch.utils.tensorboard import SummaryWriter\n",
    "\n",
    "import matplotlib.pyplot as plt\n",
    "import numpy as np\n",
    "\n",
    "device = torch.device(\"cuda\" if torch.cuda.is_available() else \"cpu\")\n",
    "writer = SummaryWriter(\"runs/simple_classification\")"
   ]
  },
  {
   "cell_type": "markdown",
   "metadata": {},
   "source": [
    "**1. DATA PREPROCESSING**\n",
    "\n",
    "We will first load all the images from the [dataset](https://www.kaggle.com/datasets/xainano/handwrittenmathsymbols)."
   ]
  },
  {
   "cell_type": "code",
   "execution_count": 13,
   "metadata": {},
   "outputs": [],
   "source": [
    "# Load the dataset and make a random rotation\n",
    "transform = transforms.Compose([\n",
    "    transforms.Grayscale(),\n",
    "    transforms.RandomRotation(15, fill=255),  # Fill the border with white pixels\n",
    "    transforms.ToTensor()])\n",
    "dataset = datasets.ImageFolder(\"data/data/extracted_images\", transform=transform)"
   ]
  },
  {
   "cell_type": "markdown",
   "metadata": {},
   "source": [
    "Since there are many images we will only use at first a subset of them, with all classes present in both training and testing. For this we use a method found at aux_functions."
   ]
  },
  {
   "cell_type": "code",
   "execution_count": 20,
   "metadata": {},
   "outputs": [
    {
     "name": "stdout",
     "output_type": "stream",
     "text": [
      "Completed label: 0/82\n",
      "Completed label: 1/82\n",
      "Completed label: 2/82\n",
      "Completed label: 3/82\n",
      "Completed label: 4/82\n",
      "Completed label: 5/82\n",
      "Completed label: 6/82\n",
      "Completed label: 7/82\n",
      "Completed label: 8/82\n",
      "Completed label: 9/82\n",
      "Completed label: 10/82\n",
      "Completed label: 11/82\n",
      "Completed label: 12/82\n",
      "Completed label: 13/82\n",
      "Completed label: 14/82\n",
      "Completed label: 15/82\n",
      "Completed label: 16/82\n",
      "Completed label: 17/82\n",
      "Completed label: 18/82\n",
      "Completed label: 19/82\n",
      "Completed label: 20/82\n",
      "Completed label: 21/82\n",
      "Completed label: 22/82\n",
      "Completed label: 23/82\n",
      "Completed label: 24/82\n",
      "Completed label: 25/82\n",
      "Completed label: 26/82\n",
      "Completed label: 27/82\n",
      "Completed label: 28/82\n",
      "Completed label: 29/82\n",
      "Completed label: 30/82\n",
      "Completed label: 31/82\n",
      "Completed label: 32/82\n",
      "Completed label: 33/82\n",
      "Completed label: 34/82\n",
      "Completed label: 35/82\n",
      "Completed label: 36/82\n",
      "Completed label: 37/82\n",
      "Completed label: 38/82\n",
      "Completed label: 39/82\n",
      "Completed label: 40/82\n",
      "Completed label: 41/82\n",
      "Completed label: 42/82\n",
      "Completed label: 43/82\n",
      "Completed label: 44/82\n",
      "Completed label: 45/82\n",
      "Completed label: 46/82\n",
      "Completed label: 47/82\n",
      "Completed label: 48/82\n",
      "Completed label: 49/82\n",
      "Completed label: 50/82\n",
      "Completed label: 51/82\n",
      "Completed label: 52/82\n",
      "Completed label: 53/82\n",
      "Completed label: 54/82\n",
      "Completed label: 55/82\n",
      "Completed label: 56/82\n",
      "Completed label: 57/82\n",
      "Completed label: 58/82\n",
      "Completed label: 59/82\n",
      "Completed label: 60/82\n",
      "Completed label: 61/82\n",
      "Completed label: 62/82\n",
      "Completed label: 63/82\n",
      "Completed label: 64/82\n",
      "Completed label: 65/82\n",
      "Completed label: 66/82\n",
      "Completed label: 67/82\n",
      "Completed label: 68/82\n",
      "Completed label: 69/82\n",
      "Completed label: 70/82\n",
      "Completed label: 71/82\n",
      "Completed label: 72/82\n",
      "Completed label: 73/82\n",
      "Completed label: 74/82\n",
      "Completed label: 75/82\n",
      "Completed label: 76/82\n",
      "Completed label: 77/82\n",
      "Completed label: 78/82\n",
      "Completed label: 79/82\n",
      "Completed label: 80/82\n",
      "Completed label: 81/82\n"
     ]
    }
   ],
   "source": [
    "from sklearn.model_selection import train_test_split\n",
    "from aux_functions import get_subset_with_all_labels\n",
    "from torch.utils.data import Subset\n",
    "\n",
    "# Get a subset with all labels present\n",
    "subset = get_subset_with_all_labels(dataset, 10_000, 10, True)\n",
    "\n",
    "# Get labels from the subset\n",
    "subset_labels = [subset[i][1] for i in range(len(subset))]\n",
    "\n",
    "# Perform stratified splitting\n",
    "indices = np.arange(len(subset))\n",
    "train_indices, test_indices = train_test_split(\n",
    "    indices, \n",
    "    test_size=0.2, \n",
    "    stratify=subset_labels,\n",
    "    random_state=42\n",
    ")\n",
    "\n",
    "train_subset = Subset(subset, train_indices)\n",
    "test_subset = Subset(subset, test_indices)\n",
    "\n",
    "# Dataloader for training and testing\n",
    "train_loader = torch.utils.data.DataLoader(train_subset, batch_size=32, shuffle=True)\n",
    "test_loader = torch.utils.data.DataLoader(test_subset, batch_size=32, shuffle=True)"
   ]
  },
  {
   "cell_type": "markdown",
   "metadata": {},
   "source": [
    "Now we explore the data checking that it has been correctly preprocessed."
   ]
  },
  {
   "cell_type": "code",
   "execution_count": 21,
   "metadata": {},
   "outputs": [
    {
     "name": "stdout",
     "output_type": "stream",
     "text": [
      "Length of training set: 8000\n",
      "Length of testing set: 2000\n"
     ]
    },
    {
     "data": {
      "image/png": "[encoded data removed]",
      "text/plain": [
       "<Figure size 1000x400 with 4 Axes>"
      ]
     },
     "metadata": {},
     "output_type": "display_data"
    },
    {
     "data": {
      "image/png": "[encoded data removed]",
      "text/plain": [
       "<Figure size 1000x400 with 4 Axes>"
      ]
     },
     "metadata": {},
     "output_type": "display_data"
    }
   ],
   "source": [
    "print(f\"Length of training set: {len(train_subset)}\")\n",
    "print(f\"Length of testing set: {len(test_subset)}\")\n",
    "\n",
    "# Testing data loader\n",
    "train_images, train_labels = next(iter(train_loader))\n",
    "test_images, test_labels = next(iter(test_loader))\n",
    "\n",
    "# Plotting training images\n",
    "fig1, axes1 = plt.subplots(figsize=(10,4), ncols=4)\n",
    "for i in range(4):\n",
    "    ax = axes1[i]\n",
    "    ax.imshow(train_images[i].permute(1, 2, 0))\n",
    "    ax.axis(\"off\")\n",
    "fig1.suptitle(\"Training Images\")\n",
    "plt.show()\n",
    "\n",
    "# Plotting testing images\n",
    "fig2, axes2 = plt.subplots(figsize=(10,4), ncols=4)\n",
    "for i in range(4):\n",
    "    ax = axes2[i]\n",
    "    ax.imshow(test_images[i].permute(1, 2, 0))\n",
    "    ax.axis(\"off\")\n",
    "fig2.suptitle(\"Testing Images\")\n",
    "plt.show()\n",
    "\n",
    "\n",
    "img_grid = torchvision.utils.make_grid(test_images)\n",
    "writer.add_image(\"symbols\", img_grid)\n"
   ]
  },
  {
   "cell_type": "markdown",
   "metadata": {},
   "source": [
    "**2. SIMPLE MODEL CREATION AND TRAINING**\n",
    "\n",
    "We create a simple CNN at first with 2 convolutional layers and 3 fully connected layers. It will serve as a benchmark to how complex this classification is."
   ]
  },
  {
   "cell_type": "code",
   "execution_count": 22,
   "metadata": {},
   "outputs": [],
   "source": [
    "import torch.nn as nn\n",
    "import torch.nn.functional as F\n",
    "\n",
    "class SimpleCNN(nn.Module):\n",
    "    def __init__(self):\n",
    "        super().__init__()\n",
    "        self.conv1 = nn.Conv2d(1, 16, 3)\n",
    "        self.pool = nn.MaxPool2d(2, 2)\n",
    "        self.conv2 = nn.Conv2d(16, 32, 3)\n",
    "        self.fc1 = nn.Linear(32 * 9 * 9, 512)\n",
    "        self.fc2 = nn.Linear(512, 256)\n",
    "        self.fc3 = nn.Linear(256, 82)\n",
    "\n",
    "    def forward(self, x):\n",
    "        x = self.pool(F.relu(self.conv1(x)))\n",
    "        x = self.pool(F.relu(self.conv2(x)))\n",
    "        x = torch.flatten(x, 1)\n",
    "        x = F.relu(self.fc1(x))\n",
    "        x = F.relu(self.fc2(x))\n",
    "        x = self.fc3(x)\n",
    "\n",
    "        return x\n",
    "\n",
    "first_cnn = SimpleCNN().to(device)"
   ]
  },
  {
   "cell_type": "markdown",
   "metadata": {},
   "source": [
    "Now we will train the model in the subset we created previously"
   ]
  },
  {
   "cell_type": "code",
   "execution_count": 23,
   "metadata": {},
   "outputs": [],
   "source": [
    "import torch.optim as optim\n",
    "\n",
    "criterion = nn.CrossEntropyLoss()\n",
    "optimizer = optim.Adam(first_cnn.parameters(), lr=0.001)\n",
    "scaler = torch.amp.GradScaler(\"cuda\")\n",
    "writer.add_graph(first_cnn, test_images.to(device))"
   ]
  },
  {
   "cell_type": "code",
   "execution_count": 24,
   "metadata": {},
   "outputs": [
    {
     "name": "stdout",
     "output_type": "stream",
     "text": [
      "Epoch[1/30], Step [100/250], Loss: 0.9931\n",
      "Epoch[1/30], Step [200/250], Loss: 0.9417\n",
      "Epoch[2/30], Step [100/250], Loss: 0.8041\n",
      "Epoch[2/30], Step [200/250], Loss: 0.6631\n",
      "Epoch[3/30], Step [100/250], Loss: 0.6589\n",
      "Epoch[3/30], Step [200/250], Loss: 0.5930\n",
      "Epoch[4/30], Step [100/250], Loss: 0.4540\n",
      "Epoch[4/30], Step [200/250], Loss: 0.4907\n",
      "Epoch[5/30], Step [100/250], Loss: 0.3913\n",
      "Epoch[5/30], Step [200/250], Loss: 0.4858\n",
      "Epoch[6/30], Step [100/250], Loss: 0.3914\n",
      "Epoch[6/30], Step [200/250], Loss: 0.3314\n",
      "Epoch[7/30], Step [100/250], Loss: 0.3698\n",
      "Epoch[7/30], Step [200/250], Loss: 0.3185\n",
      "Epoch[8/30], Step [100/250], Loss: 0.2928\n",
      "Epoch[8/30], Step [200/250], Loss: 0.2452\n",
      "Epoch[9/30], Step [100/250], Loss: 0.1430\n",
      "Epoch[9/30], Step [200/250], Loss: 0.3791\n",
      "Epoch[10/30], Step [100/250], Loss: 0.1982\n",
      "Epoch[10/30], Step [200/250], Loss: 0.2555\n",
      "Epoch[11/30], Step [100/250], Loss: 0.1862\n",
      "Epoch[11/30], Step [200/250], Loss: 0.2695\n",
      "Epoch[12/30], Step [100/250], Loss: 0.2822\n",
      "Epoch[12/30], Step [200/250], Loss: 0.3079\n",
      "Epoch[13/30], Step [100/250], Loss: 0.2268\n",
      "Epoch[13/30], Step [200/250], Loss: 0.2542\n",
      "Epoch[14/30], Step [100/250], Loss: 0.1559\n",
      "Epoch[14/30], Step [200/250], Loss: 0.1231\n",
      "Epoch[15/30], Step [100/250], Loss: 0.2147\n",
      "Epoch[15/30], Step [200/250], Loss: 0.1562\n",
      "Epoch[16/30], Step [100/250], Loss: 0.1841\n",
      "Epoch[16/30], Step [200/250], Loss: 0.1546\n",
      "Epoch[17/30], Step [100/250], Loss: 0.3621\n",
      "Epoch[17/30], Step [200/250], Loss: 0.1380\n",
      "Epoch[18/30], Step [100/250], Loss: 0.1566\n",
      "Epoch[18/30], Step [200/250], Loss: 0.1040\n",
      "Epoch[19/30], Step [100/250], Loss: 0.1677\n",
      "Epoch[19/30], Step [200/250], Loss: 0.1866\n",
      "Epoch[20/30], Step [100/250], Loss: 0.2312\n",
      "Epoch[20/30], Step [200/250], Loss: 0.1345\n",
      "Epoch[21/30], Step [100/250], Loss: 0.1072\n",
      "Epoch[21/30], Step [200/250], Loss: 0.1859\n",
      "Epoch[22/30], Step [100/250], Loss: 0.1834\n",
      "Epoch[22/30], Step [200/250], Loss: 0.1939\n",
      "Epoch[23/30], Step [100/250], Loss: 0.1235\n",
      "Epoch[23/30], Step [200/250], Loss: 0.1303\n",
      "Epoch[24/30], Step [100/250], Loss: 0.1022\n",
      "Epoch[24/30], Step [200/250], Loss: 0.1694\n",
      "Epoch[25/30], Step [100/250], Loss: 0.1615\n",
      "Epoch[25/30], Step [200/250], Loss: 0.2055\n",
      "Epoch[26/30], Step [100/250], Loss: 0.0929\n",
      "Epoch[26/30], Step [200/250], Loss: 0.2226\n",
      "Epoch[27/30], Step [100/250], Loss: 0.1484\n",
      "Epoch[27/30], Step [200/250], Loss: 0.0919\n",
      "Epoch[28/30], Step [100/250], Loss: 0.1043\n",
      "Epoch[28/30], Step [200/250], Loss: 0.0878\n",
      "Epoch[29/30], Step [100/250], Loss: 0.1525\n",
      "Epoch[29/30], Step [200/250], Loss: 0.2418\n",
      "Epoch[30/30], Step [100/250], Loss: 0.0991\n",
      "Epoch[30/30], Step [200/250], Loss: 0.1087\n",
      "Finished training\n"
     ]
    }
   ],
   "source": [
    "accumulation_steps = 4\n",
    "n_epochs = 30\n",
    "n_total_steps = len(train_loader)\n",
    "\n",
    "running_loss = 0.0\n",
    "running_correct = 0\n",
    "for epoch in range(n_epochs):\n",
    "    first_cnn.train()\n",
    "\n",
    "    for i, (images, labels) in enumerate(train_loader, 0):\n",
    "        images, labels = images.to(device), labels.to(device)\n",
    "        optimizer.zero_grad()\n",
    "\n",
    "        with torch.amp.autocast(\"cuda\"): \n",
    "            outputs = first_cnn(images)\n",
    "            loss = criterion(outputs, labels) / accumulation_steps\n",
    "\n",
    "        scaler.scale(loss).backward()\n",
    "\n",
    "        if (i + 1) % accumulation_steps == 0:  # Update after accumulation\n",
    "            scaler.step(optimizer)\n",
    "            scaler.update()\n",
    "            optimizer.zero_grad()\n",
    "\n",
    "        running_loss += loss.item()\n",
    "        _, predicted = torch.max(outputs.data, 1)\n",
    "        running_correct += (predicted == labels).sum().item()\n",
    "\n",
    "        if (i+1) % 100 == 0:\n",
    "            print(f\"Epoch[{epoch+1}/{n_epochs}], Step [{i+1}/{n_total_steps}], Loss: {loss.item():.4f}\")\n",
    "            writer.add_scalar(\"training_loss\", running_loss/100, epoch * n_total_steps + i)\n",
    "            writer.add_scalar(\"training_accuracy\", running_correct/100, epoch * n_total_steps + i)\n",
    "            running_loss = 0.0\n",
    "            running_correct = 0\n",
    "\n",
    "\n",
    "\n",
    "print(\"Finished training\")"
   ]
  },
  {
   "cell_type": "code",
   "execution_count": 25,
   "metadata": {},
   "outputs": [
    {
     "name": "stdout",
     "output_type": "stream",
     "text": [
      "Accuracy on the test set: 79.5 %\n"
     ]
    }
   ],
   "source": [
    "labels = []\n",
    "preds = []\n",
    "\n",
    "with torch.no_grad():\n",
    "    n_correct = 0\n",
    "    n_samples = 0\n",
    "    for images, labels1 in test_loader:\n",
    "        images, labels1 = images.to(device), labels1.to(device)\n",
    "        outputs = first_cnn(images)\n",
    "        _, predicted = torch.max(outputs.data, 1)\n",
    "        n_samples += labels1.size(0)\n",
    "        n_correct += (predicted == labels1).sum().item()\n",
    "\n",
    "        class_predictions = [F.softmax(output, dim=0) for output in outputs]\n",
    "\n",
    "        preds.append(class_predictions)\n",
    "        labels.append(predicted)\n",
    "\n",
    "preds = torch.cat([torch.stack(batch) for batch in preds])\n",
    "labels = torch.cat(labels)\n",
    "\n",
    "acc = 100.0 * n_correct / n_samples\n",
    "print(f\"Accuracy on the test set: {acc} %\")\n",
    "\n",
    "label_mapping = {v: k for k, v in dataset.class_to_idx.items()}\n",
    "\n",
    "classes = range(82)\n",
    "for i in classes: \n",
    "    labels_i = labels == i\n",
    "    preds_i = preds[:, i]\n",
    "    writer.add_pr_curve(label_mapping[i], labels_i, preds_i, global_step=0)\n",
    "    writer.close()"
   ]
  }
 ],
 "metadata": {
  "kernelspec": {
   "display_name": "Python 3",
   "language": "python",
   "name": "python3"
  },
  "language_info": {
   "codemirror_mode": {
    "name": "ipython",
    "version": 3
   },
   "file_extension": ".py",
   "mimetype": "text/x-python",
   "name": "python",
   "nbconvert_exporter": "python",
   "pygments_lexer": "ipython3",
   "version": "3.11.5"
  }
 },
 "nbformat": 4,
 "nbformat_minor": 2
}
